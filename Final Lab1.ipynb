{
 "cells": [
  {
   "cell_type": "code",
   "execution_count": 1,
   "id": "86de04d2-026a-43e1-94c4-790de0f9a96a",
   "metadata": {},
   "outputs": [
    {
     "name": "stdout",
     "output_type": "stream",
     "text": [
      "Hello\n"
     ]
    }
   ],
   "source": [
    "print(\"Hello\")"
   ]
  },
  {
   "cell_type": "code",
   "execution_count": 61,
   "id": "eb6b9e74-1120-4f42-bec9-2f9c8598feea",
   "metadata": {},
   "outputs": [
    {
     "name": "stdout",
     "output_type": "stream",
     "text": [
      "21134\n",
      "[2, 1, 1, 3, 4]\n",
      "[0, 1, 0, 0, 0]\n",
      "[0, 0, 0, 1, 0]\n",
      "[0, 0, 0, 1, 0]\n",
      "[0, 0, 1, 0, 0]\n",
      "[0, 0, 0, 0, 1]\n",
      "3\n"
     ]
    }
   ],
   "source": [
    "import random\n",
    "\n",
    "def createChromosom(n):\n",
    "    c=''\n",
    "    for i in range(n):\n",
    "        c=c+str(random.randint(0,n-1))\n",
    "    return c\n",
    "\n",
    "def stringToList(s):\n",
    "    l=[]\n",
    "    for i in range(len(s)):\n",
    "        l.append(int(s[i]))\n",
    "    return l\n",
    "\n",
    "def createBoard(lc):\n",
    "    m=[]\n",
    "    for i in range(len(lc)):\n",
    "        c=[]\n",
    "        for j in range(len(lc)):\n",
    "            c.append(0)\n",
    "        m.append(c)\n",
    "    for i in range(len(lc)):\n",
    "        m[i][lc[i]]=1\n",
    "    return m\n",
    "\n",
    "def printBoard(b):\n",
    "    for i in b:\n",
    "        print(i)\n",
    "\n",
    "def count_attacks(queens):\n",
    "    n = len(queens)\n",
    "    attacks = 0\n",
    "    \n",
    "    for i in range(n):\n",
    "        for j in range(i + 1, n):\n",
    "            # Same row\n",
    "            if queens[i] == queens[j]:\n",
    "                attacks += 1\n",
    "            # Same diagonal\n",
    "            elif abs(queens[i] - queens[j]) == abs(i - j):\n",
    "                attacks += 1\n",
    "    \n",
    "    return attacks\n",
    "\n",
    "\n",
    "\n",
    "c=createChromosom(5)\n",
    "lc=stringToList(c)\n",
    "print(c)\n",
    "print(lc)\n",
    "lcc=[1,3,3,2,4]\n",
    "board=createBoard(lcc)\n",
    "#print(board)\n",
    "printBoard(board)\n",
    "print(count_attacks(lcc))"
   ]
  },
  {
   "cell_type": "code",
   "execution_count": null,
   "id": "345509db-72b7-4ec4-a03f-4a6124474072",
   "metadata": {},
   "outputs": [],
   "source": []
  }
 ],
 "metadata": {
  "kernelspec": {
   "display_name": "Python 3 (ipykernel)",
   "language": "python",
   "name": "python3"
  },
  "language_info": {
   "codemirror_mode": {
    "name": "ipython",
    "version": 3
   },
   "file_extension": ".py",
   "mimetype": "text/x-python",
   "name": "python",
   "nbconvert_exporter": "python",
   "pygments_lexer": "ipython3",
   "version": "3.11.7"
  }
 },
 "nbformat": 4,
 "nbformat_minor": 5
}
