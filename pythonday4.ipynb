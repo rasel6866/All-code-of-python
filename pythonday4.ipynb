{
 "cells": [
  {
   "cell_type": "code",
   "execution_count": 17,
   "id": "269ea180-22a5-4947-880a-a666c0b7b0ad",
   "metadata": {},
   "outputs": [
    {
     "name": "stdin",
     "output_type": "stream",
     "text": [
      "Enter 1st number:  8\n",
      "Enter 2nd number:  2\n"
     ]
    },
    {
     "name": "stdout",
     "output_type": "stream",
     "text": [
      "The result is 4.0\n"
     ]
    }
   ],
   "source": [
    "'''\n",
    "Multiple line comments \n",
    "In this statenment we discus the User input with diffrents number \n",
    "'''\n",
    "\n",
    "num1=int(input(\"Enter 1st number: \"))\n",
    "num2=int(input(\"Enter 2nd number: \"))\n",
    "result=num1 + num2\n",
    "\n",
    "num1=int(input(\"Enter 1st number: \"))\n",
    "num2=int(input(\"Enter 2nd number: \"))\n",
    "result=num1 - num2\n",
    "\n",
    "num1=int(input(\"Enter 1st number: \"))\n",
    "num2=int(input(\"Enter 2nd number: \"))\n",
    "result=num1 * num2\n",
    "\n",
    "\n",
    "num1=int(input(\"Enter 1st number: \"))\n",
    "num2=int(input(\"Enter 2nd number: \"))\n",
    "result=num1 / num2\n",
    "\n",
    "num1=int(input(\"Enter 1st number: \"))\n",
    "num2=int(input(\"Enter 2nd number: \"))\n",
    "result=num1 % num2\n",
    "\n",
    "print(\"The result is\",result)\n"
   ]
  },
  {
   "cell_type": "code",
   "execution_count": 23,
   "id": "15f54e0f-af14-471e-93ed-feb6752be420",
   "metadata": {},
   "outputs": [
    {
     "name": "stdin",
     "output_type": "stream",
     "text": [
      "Enter the raidus:  4\n"
     ]
    },
    {
     "name": "stdout",
     "output_type": "stream",
     "text": [
      "50.2656\n"
     ]
    }
   ],
   "source": [
    "'''base=float(input(\"Enter the Base: \"))\n",
    "height=float(input(\"Enter the heigh: \"))\n",
    "\n",
    "area=0.5*base*height\n",
    "print(area)'''\n",
    "\n",
    "\n",
    "\n",
    "raidus=float(input(\"Enter the raidus: \"))\n",
    "\n",
    "area=3.1416*raidus*raidus\n",
    "print(area)\n"
   ]
  },
  {
   "cell_type": "code",
   "execution_count": 81,
   "id": "3e6b9840-f409-4b06-b47f-c1952f91f9ea",
   "metadata": {},
   "outputs": [
    {
     "name": "stdout",
     "output_type": "stream",
     "text": [
      "6\n",
      "24\n",
      "12\n",
      "24\n",
      "3.652034743605658e+16\n",
      "5\n"
     ]
    }
   ],
   "source": [
    "print(6)\n",
    "'''\n",
    "function are 2 types \n",
    "1.library function \n",
    "2.userdifined function \n",
    "#print library function \n",
    "#input libarary ,Max,Min\n",
    "\n",
    "'''\n",
    "\n",
    "from math import *\n",
    "print(max(24,12))\n",
    "\n",
    "print(min(24,12))\n",
    "print(abs(-24))\n",
    "print(pow(24,12))\n",
    "#print(sqrt(24,12))\n",
    "print(round(4.6))"
   ]
  },
  {
   "cell_type": "code",
   "execution_count": 35,
   "id": "3a058e07-8528-4fe5-b591-972cf2466e98",
   "metadata": {},
   "outputs": [
    {
     "name": "stdout",
     "output_type": "stream",
     "text": [
      "4\n",
      "5\n"
     ]
    }
   ],
   "source": [
    "print(floor(4.5))\n",
    "print(ceil(4.6))"
   ]
  },
  {
   "cell_type": "code",
   "execution_count": 75,
   "id": "2ea4a8ff-1ae9-4c64-a10d-3e360ee69f23",
   "metadata": {},
   "outputs": [
    {
     "name": "stdout",
     "output_type": "stream",
     "text": [
      "<class 'str'>\n",
      "<class 'int'>\n",
      "<class 'float'>\n",
      "<class 'bool'>\n",
      "<class 'bool'>\n",
      "Sum is :  50\n",
      "Rasel Sarker\t Naim Urc\n"
     ]
    }
   ],
   "source": [
    "#Type Function ueses\n",
    "num=\"Rasel\"\n",
    "print(type(num))\n",
    "\n",
    "num=100\n",
    "print(type(num))\n",
    "\n",
    "num=100.78\n",
    "print(type(num))\n",
    "\n",
    "print(type(False))\n",
    "print(type(True))\n",
    "\n",
    "\n",
    "\n",
    "\n",
    "num1=20\n",
    "num2=30\n",
    "print(\"Sum is : \" ,num1+num2)\n",
    "\n",
    "print(\"Rasel Sarker\",end=\"\\t \")\n",
    "print(\"Naim Urc\")\n",
    "\n",
    "#print(f\" {num1} + {num2} = {num1+numm2} \")"
   ]
  },
  {
   "cell_type": "code",
   "execution_count": 13,
   "id": "55e21c1f-6543-419a-b082-d00f0ef41036",
   "metadata": {},
   "outputs": [
    {
     "name": "stdout",
     "output_type": "stream",
     "text": [
      "True\n",
      "True\n",
      "True\n",
      "False\n",
      "True\n",
      "True\n",
      "False\n",
      "True\n"
     ]
    }
   ],
   "source": [
    "#relational operator \n",
    "result=50>20\n",
    "print(result)\n",
    "\n",
    "#print(\"Rasel\"=\"Rasel\")\n",
    "print(\"Rasel\"==\"Rasel\")\n",
    "\n",
    "\n",
    "#a=b its called valu of b is stored in a\n",
    "#a==b means both valus is Equal.\n",
    "\n",
    "\n",
    "print(50>20)\n",
    "print(50<20)\n",
    "print(50>=20)\n",
    "print(15<=20)\n",
    "#print(50=50)\n",
    "print(50==20)\n",
    "print(50!=20)\n"
   ]
  },
  {
   "cell_type": "code",
   "execution_count": 44,
   "id": "c96726cf-79c6-4956-a0ca-74d973b92ff4",
   "metadata": {},
   "outputs": [
    {
     "name": "stdout",
     "output_type": "stream",
     "text": [
      " pass\n",
      "10\n",
      "Odd\n"
     ]
    }
   ],
   "source": [
    "marks=99\n",
    "if marks>=80:\n",
    "    {\n",
    "    print(\" pass\")\n",
    "    }    \n",
    "else:\n",
    "    {\n",
    "    print(\"Fail\")\n",
    "    }\n",
    "\n",
    "\n",
    "#largest number\n",
    "num1=10\n",
    "num2=-20\n",
    "\n",
    "if(num1>num2):\n",
    "\n",
    "    print(num1)\n",
    "else:\n",
    "    print(num2)\n",
    "\n",
    "\n",
    "#even odd number\n",
    "#num =8\n",
    "num2= 5\n",
    "if num2 % 2 == 0:\n",
    "    print(\" Even\")\n",
    "\n",
    "else:\n",
    "    print(\"Odd\")\n",
    "    \n",
    "\n",
    "\n",
    "\n"
   ]
  },
  {
   "cell_type": "code",
   "execution_count": 66,
   "id": "c328c1c8-a8d8-4ffa-959c-0cd8aeaec185",
   "metadata": {},
   "outputs": [
    {
     "name": "stdin",
     "output_type": "stream",
     "text": [
      "Enter the Marks is =  88\n"
     ]
    },
    {
     "name": "stdout",
     "output_type": "stream",
     "text": [
      "The Subjrect Grade is : A\n"
     ]
    }
   ],
   "source": [
    "#User input \n",
    "#marks=80, set the valus \n",
    "\n",
    "\n",
    "marks=int(input(\"Enter the Marks is = \"))\n",
    "\n",
    "if marks>=90:\n",
    "    print(\"The Subject Grade is : A+\")\n",
    "elif marks>=85:\n",
    "    print(\"The Subject Grade is : A\")\n",
    "elif marks>=80:\n",
    "    print(\"The Subject Grade is : B+ \")\n",
    "elif marks>=75:\n",
    "    print(\"The Subject Grade is : B\")\n",
    "elif marks>=70:\n",
    "    print(\"The Subject Grade is : B-\")\n",
    "\n",
    "elif marks>=65:\n",
    "    print(\"The Subject Grade is : C-\")\n",
    "\n",
    "elif marks>=60:\n",
    "    print(\"The Subject Grade is : D\")\n",
    "\n",
    "else:\n",
    "    print(\" Fail\")\n",
    "    \n"
   ]
  },
  {
   "cell_type": "code",
   "execution_count": 87,
   "id": "fd0ae49d-5b51-46ad-9c9b-c5659768fda2",
   "metadata": {},
   "outputs": [
    {
     "name": "stdout",
     "output_type": "stream",
     "text": [
      "30\n",
      "-40\n"
     ]
    },
    {
     "name": "stdin",
     "output_type": "stream",
     "text": [
      " Enter the number is :  44\n"
     ]
    },
    {
     "name": "stdout",
     "output_type": "stream",
     "text": [
      "30\n",
      "30\n"
     ]
    }
   ],
   "source": [
    "'''\n",
    "inner statement if...if\n",
    "\n",
    "'''\n",
    "num1=30\n",
    "num2=-80\n",
    "num3=-40\n",
    "\n",
    "if num1>num2:\n",
    "    if num1>num3:\n",
    "        print(num1)\n",
    "if num2>num1:\n",
    "    if num2>num3:\n",
    "        print(num2)\n",
    "\n",
    "else:\n",
    "    print(num3)\n",
    "    \n",
    "\"\"\"\n",
    "tarnary operator\n",
    "\"\"\"\n",
    "max=int(input(\" Enter the number is : \"))\n",
    "\n",
    "print(num1 if num1>num2 else num2)\n",
    "\n",
    "\n",
    "max=num1 if num1>num2 else num2\n",
    "print(max)"
   ]
  },
  {
   "cell_type": "code",
   "execution_count": 91,
   "id": "0ef47fb0-7a47-4c7f-b508-6ac3666bf2d8",
   "metadata": {},
   "outputs": [
    {
     "name": "stdin",
     "output_type": "stream",
     "text": [
      " Enter the number is :  33\n",
      " Enter the number is :  44\n"
     ]
    },
    {
     "name": "stdout",
     "output_type": "stream",
     "text": [
      "44\n",
      "44\n"
     ]
    }
   ],
   "source": [
    "num1=int(input(\" Enter the number is : \"))\n",
    "num2=int(input(\" Enter the number is : \"))\n",
    "\n",
    "\n",
    "\n",
    "\n",
    "print(num1 if num1>num2 else num2)\n",
    "\n",
    "\n",
    "max=num1 if num1>num2 else num2\n",
    "print(max)\n",
    "\n"
   ]
  },
  {
   "cell_type": "code",
   "execution_count": null,
   "id": "2284b8cf-efb5-486c-8222-0fac75118a43",
   "metadata": {},
   "outputs": [],
   "source": [
    "# and or not \n",
    "# Logical oprator \n",
    "\n",
    "\n"
   ]
  }
 ],
 "metadata": {
  "kernelspec": {
   "display_name": "Python 3 (ipykernel)",
   "language": "python",
   "name": "python3"
  },
  "language_info": {
   "codemirror_mode": {
    "name": "ipython",
    "version": 3
   },
   "file_extension": ".py",
   "mimetype": "text/x-python",
   "name": "python",
   "nbconvert_exporter": "python",
   "pygments_lexer": "ipython3",
   "version": "3.12.7"
  }
 },
 "nbformat": 4,
 "nbformat_minor": 5
}
