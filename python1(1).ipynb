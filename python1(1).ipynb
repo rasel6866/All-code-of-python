{
 "cells": [
  {
   "cell_type": "code",
   "execution_count": 5,
   "id": "88bfaf4f-cdde-4c12-83d3-ef7aebea7537",
   "metadata": {},
   "outputs": [
    {
     "name": "stdout",
     "output_type": "stream",
     "text": [
      "S.M.Rasel\n"
     ]
    }
   ],
   "source": [
    "print(\"S.M.Rasel\")"
   ]
  },
  {
   "cell_type": "code",
   "execution_count": 1,
   "id": "16029e02-03a0-4bdf-99e5-0312057afc96",
   "metadata": {},
   "outputs": [
    {
     "name": "stdout",
     "output_type": "stream",
     "text": [
      "Hello World\n"
     ]
    }
   ],
   "source": [
    "print(\"Hello World\")\n"
   ]
  },
  {
   "cell_type": "code",
   "execution_count": 9,
   "id": "ae344484-fa44-4b2c-896c-f8474b56eabb",
   "metadata": {},
   "outputs": [
    {
     "name": "stdout",
     "output_type": "stream",
     "text": [
      "Rasel,Naim\n"
     ]
    }
   ],
   "source": [
    "print(\"Rasel,Naim\")"
   ]
  },
  {
   "cell_type": "code",
   "execution_count": 1,
   "id": "d93ce688-976d-43fe-ad1a-d80990c6865a",
   "metadata": {},
   "outputs": [
    {
     "name": "stdout",
     "output_type": "stream",
     "text": [
      "100\n",
      "500\n"
     ]
    }
   ],
   "source": [
    "#My biodata in this program\n",
    "#This is single line comments in python\n",
    "print(\"100\")\n",
    "print(\"500\")\n"
   ]
  },
  {
   "cell_type": "code",
   "execution_count": 19,
   "id": "1771a714-b18a-443e-87bc-9e8e52e569b1",
   "metadata": {},
   "outputs": [
    {
     "name": "stdout",
     "output_type": "stream",
     "text": [
      "@@,!!,$$,%%\n"
     ]
    }
   ],
   "source": [
    "'''\n",
    "This is multiple line comments in python\n",
    "Again my Biodata in this program\n",
    "\n",
    "'''\n",
    "\n",
    "print(\"@@,!!,$$,%%\")"
   ]
  },
  {
   "cell_type": "code",
   "execution_count": 20,
   "id": "e96bd129-7def-43c4-9ca4-38da63279360",
   "metadata": {},
   "outputs": [
    {
     "name": "stdout",
     "output_type": "stream",
     "text": [
      "S.M.Rasel \n",
      "Student of  CSE\n",
      "S.M.Rasel \tStudent of  CSE\n",
      "\"S.M.Rasel \n",
      "Student of  CSE\"\n"
     ]
    }
   ],
   "source": [
    "#uses of blackslash character \\\\Escape sequence \n",
    "print(\"S.M.Rasel \\nStudent of  CSE\")\n",
    "\n",
    "print(\"S.M.Rasel \\tStudent of  CSE\")\n",
    "\n",
    "print(\"\\\"S.M.Rasel \\nStudent of  CSE\\\"\")"
   ]
  },
  {
   "cell_type": "code",
   "execution_count": 45,
   "id": "57fb6f21-92b0-4d10-90fd-d7971242622d",
   "metadata": {},
   "outputs": [
    {
     "name": "stdout",
     "output_type": "stream",
     "text": [
      "S.M. Rasel Rubel Rofiq\n",
      "Our srudent name is Rasel \n",
      "Rasel live in Siragonj.\n",
      "Age 24\n",
      "cgpa 3.95\n"
     ]
    }
   ],
   "source": [
    "name =\"Rasel \"\n",
    "age = 24 \n",
    "cgpa=3.95\n",
    "\n",
    "print(\"S.M. \" + \"Rasel \" + \"Rubel \" + \"Rofiq\") #concatination parts \n",
    "\n",
    "print(\"Our srudent name is \"+name)\n",
    "print(name + \"live in Siragonj.\")\n",
    "print(\"Age\",age)\n",
    "print(\"cgpa\",cgpa)\n"
   ]
  },
  {
   "cell_type": "code",
   "execution_count": 47,
   "id": "8345779f-0571-4d40-9af2-37d20f98c42f",
   "metadata": {},
   "outputs": [
    {
     "name": "stdout",
     "output_type": "stream",
     "text": [
      "Adult\n"
     ]
    }
   ],
   "source": [
    "age=18\n",
    "if(age>=18):\n",
    "    print(\"Adult\")\n",
    "else:\n",
    "    print(\"Not Adult\")\n"
   ]
  },
  {
   "cell_type": "code",
   "execution_count": 68,
   "id": "9620ee9d-6443-4c88-b3d6-fb5bab9f0d66",
   "metadata": {},
   "outputs": [
    {
     "name": "stdout",
     "output_type": "stream",
     "text": [
      "Child\n",
      "Child\n"
     ]
    }
   ],
   "source": [
    "age = 10\n",
    "if (age <= 10):\n",
    "    print(\"Child\")\n",
    "elif (age >= 11 and age<18):\n",
    "    print(\"Teenger\")\n",
    "else:\n",
    "     print(\"Adult\")\n",
    "\n",
    "\n",
    "age = 10\n",
    "if age <= 10:\n",
    "    print(\"Child\")\n",
    "elif age >= 11 and age <= 18:\n",
    "    print(\"Teenager\")\n",
    "else:\n",
    "    print(\"Adult\")"
   ]
  },
  {
   "cell_type": "code",
   "execution_count": 74,
   "id": "c805ea87-f261-408e-a037-4d5cace8341b",
   "metadata": {},
   "outputs": [
    {
     "name": "stdout",
     "output_type": "stream",
     "text": [
      "I am not adult\n",
      "I am second line \n"
     ]
    }
   ],
   "source": [
    "age=16\n",
    "if age>=18:\n",
    "    print(\"I am adult\")\n",
    "else: \n",
    "    print(\"I am not adult\")\n",
    "    print(\"I am second line \")\n",
    "    "
   ]
  },
  {
   "cell_type": "code",
   "execution_count": 76,
   "id": "58d1df61-ce82-4add-aa9e-d09178431d44",
   "metadata": {},
   "outputs": [
    {
     "name": "stdout",
     "output_type": "stream",
     "text": [
      "3 4 5 6 7 8 9 "
     ]
    }
   ],
   "source": [
    "for i in range(3,10):\n",
    "    print(i,end=\" \")\n",
    "    "
   ]
  },
  {
   "cell_type": "code",
   "execution_count": 80,
   "id": "bf165210-6ffa-4d3b-98f5-ef88bf82a502",
   "metadata": {},
   "outputs": [
    {
     "name": "stdout",
     "output_type": "stream",
     "text": [
      "100 105 110 115 120 125 130 135 140 145 150 155 160 165 170 175 180 185 190 195 200 "
     ]
    }
   ],
   "source": [
    "for i in range(100,201,5):\n",
    "    print(i,end=\" \")\n",
    "    "
   ]
  },
  {
   "cell_type": "code",
   "execution_count": 82,
   "id": "02ad8917-bc08-4be9-ace3-0980c244b79a",
   "metadata": {},
   "outputs": [
    {
     "name": "stdout",
     "output_type": "stream",
     "text": [
      "1 2 3 4 5 "
     ]
    }
   ],
   "source": [
    "for i in range(1,6):\n",
    "    print(i,end=\" \")\n",
    "    "
   ]
  },
  {
   "cell_type": "code",
   "execution_count": 86,
   "id": "64ec6bb6-baad-4a2d-a5fd-8c8969ac1014",
   "metadata": {},
   "outputs": [
    {
     "name": "stdout",
     "output_type": "stream",
     "text": [
      "1 3 5 7 9 11 13 15 17 19 21 23 25 27 29 31 33 35 37 39 41 43 45 47 49 51 53 55 57 59 61 63 65 67 69 71 73 75 77 79 81 83 85 87 89 91 93 95 97 99 "
     ]
    }
   ],
   "source": [
    "for i in range(1,101):\n",
    "    if i%2==0:\n",
    "        continue \n",
    "    print(i,end=\" \")\n"
   ]
  },
  {
   "cell_type": "code",
   "execution_count": 88,
   "id": "26e18a5d-a021-4083-88c4-7e52856f5f92",
   "metadata": {},
   "outputs": [
    {
     "name": "stdout",
     "output_type": "stream",
     "text": [
      "1 3 5 7 9 11 13 15 17 19 21 23 25 27 29 31 33 35 37 39 41 43 45 47 49 51 53 55 57 59 61 63 65 67 69 71 73 75 77 79 81 83 85 87 89 91 93 95 97 99 "
     ]
    }
   ],
   "source": [
    "for i in range(1,100):\n",
    "    if i%2==0:\n",
    "        continue \n",
    "    print(i,end=\" \")"
   ]
  },
  {
   "cell_type": "code",
   "execution_count": 90,
   "id": "e302952b-949d-49cc-b344-dd2b3aea7d56",
   "metadata": {},
   "outputs": [
    {
     "name": "stdout",
     "output_type": "stream",
     "text": [
      "2 4 6 8 10 12 14 16 18 20 22 24 26 28 30 32 34 36 38 40 42 44 46 48 50 52 54 56 58 60 62 64 66 68 70 72 74 76 78 80 82 84 86 88 90 92 94 96 98 100 "
     ]
    }
   ],
   "source": [
    "for i in range(1,101):\n",
    "    if i%2==1:\n",
    "        continue \n",
    "    print(i,end=\" \")"
   ]
  },
  {
   "cell_type": "code",
   "execution_count": 92,
   "id": "db66be45-6cb6-4e7b-a846-f9cdf3cfae39",
   "metadata": {},
   "outputs": [
    {
     "name": "stdout",
     "output_type": "stream",
     "text": [
      "2 4 6 8 10 12 14 16 18 20 22 24 26 28 30 32 34 36 38 40 42 44 46 48 50 52 54 56 58 60 62 64 66 68 70 72 74 76 78 80 82 84 86 88 90 92 94 96 98 100 "
     ]
    }
   ],
   "source": [
    "for i in range(1,101):\n",
    "    if i%2!=0:\n",
    "        continue \n",
    "    print(i,end=\" \")"
   ]
  },
  {
   "cell_type": "code",
   "execution_count": 100,
   "id": "fa19897b-af51-4b04-829b-bb3fc18816c5",
   "metadata": {},
   "outputs": [
    {
     "name": "stdout",
     "output_type": "stream",
     "text": [
      "0 1 2 3 4 5 6 7 8 9 10 11 12 13 14 15 16 17 18 19 20 21 22 23 24 25 26 27 28 29 30 31 32 33 34 35 36 37 38 39 40 41 42 43 44 45 46 47 48 49 \n",
      "I am break \n"
     ]
    }
   ],
   "source": [
    "for i in range(100):\n",
    "    if i>=50:\n",
    "        break\n",
    "    print(i,end=\" \")\n",
    "print()\n",
    "print(\"I am break \")\n",
    "\n"
   ]
  },
  {
   "cell_type": "code",
   "execution_count": 106,
   "id": "983a9782-4dbf-4740-be98-5dc1ac87dbc4",
   "metadata": {},
   "outputs": [
    {
     "name": "stdout",
     "output_type": "stream",
     "text": [
      "0 1 2 3 4 5 6 7 8 9 "
     ]
    }
   ],
   "source": [
    "i=0\n",
    "while i<10:\n",
    "    print(i,end=\" \")\n",
    "    i=i+1\n",
    "    "
   ]
  },
  {
   "cell_type": "code",
   "execution_count": 116,
   "id": "18b3d4cd-6371-4488-a407-3290ad76db82",
   "metadata": {},
   "outputs": [
    {
     "name": "stdout",
     "output_type": "stream",
     "text": [
      "9\n",
      "8\n",
      "9\n"
     ]
    }
   ],
   "source": [
    "def f(x):\n",
    "    return x**2\n",
    "d=f(3)\n",
    "print(d)\n",
    "\n",
    "\n",
    "\n",
    "def f(x):\n",
    "    return x**2,2**x\n",
    "s,d=f(3)\n",
    "print(d)\n",
    "print(s)\n"
   ]
  },
  {
   "cell_type": "code",
   "execution_count": 118,
   "id": "3c5da5c8-3e7d-4be9-942e-3e3ae3431183",
   "metadata": {},
   "outputs": [
    {
     "name": "stdout",
     "output_type": "stream",
     "text": [
      "700\n",
      "300\n"
     ]
    }
   ],
   "source": [
    "def add(a=200,b=500):\n",
    "    return a+b,b-a\n",
    "\n",
    "result1,result2=add()\n",
    "print(result1)\n",
    "print(result2)\n"
   ]
  },
  {
   "cell_type": "code",
   "execution_count": null,
   "id": "aeef858c-856f-40ed-82db-af5ae630573f",
   "metadata": {},
   "outputs": [],
   "source": []
  }
 ],
 "metadata": {
  "kernelspec": {
   "display_name": "Python 3 (ipykernel)",
   "language": "python",
   "name": "python3"
  },
  "language_info": {
   "codemirror_mode": {
    "name": "ipython",
    "version": 3
   },
   "file_extension": ".py",
   "mimetype": "text/x-python",
   "name": "python",
   "nbconvert_exporter": "python",
   "pygments_lexer": "ipython3",
   "version": "3.12.7"
  }
 },
 "nbformat": 4,
 "nbformat_minor": 5
}
