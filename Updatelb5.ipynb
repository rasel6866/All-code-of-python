{
 "cells": [
  {
   "cell_type": "code",
   "execution_count": 7,
   "id": "2755d33c-5eda-404d-a530-7aae5a3357b4",
   "metadata": {},
   "outputs": [
    {
     "name": "stdout",
     "output_type": "stream",
     "text": [
      "[0, 1, 1, 0, 0, 0]\n",
      "[0, 0, 1, 1, 0, 0]\n",
      "[0, 0, 0, 1, 0, 0]\n",
      "[0, 0, 0, 0, 1, 0]\n",
      "[1, 1, 0, 0, 0, 1]\n",
      "[0, 0, 0, 0, 0, 0]\n"
     ]
    }
   ],
   "source": [
    "def creatMatrix(n):\n",
    "    m = []\n",
    "    for i in range(n):\n",
    "        c = []\n",
    "        for j in range(n):\n",
    "            c.append(0)\n",
    "        m.append(c)\n",
    "    return m\n",
    "\n",
    "def printMatrix(m):\n",
    "    for i in m:\n",
    "        print(i)\n",
    "\n",
    "def outDegree(m,n):\n",
    "    pass\n",
    "\n",
    "def inDegree(m,n):\n",
    "    pass\n",
    "\n",
    "f=open(\"graph1.txt\",\"r\")\n",
    "v_e=f.readline()\n",
    "v=int(v_e.split()[0])\n",
    "e=int(v_e.split()[1])\n",
    "m = creatMatrix(v)\n",
    "\n",
    "\n",
    "for i in range(e):\n",
    "    line=f.readline()\n",
    "    u=int(line.split()[0])\n",
    "    v=int(line.split()[1])\n",
    "    m[u][v]=1\n",
    "printMatrix(m)\n"
   ]
  },
  {
   "cell_type": "code",
   "execution_count": 28,
   "id": "dfd035db-0437-4121-a512-042b3275563d",
   "metadata": {},
   "outputs": [
    {
     "ename": "IndentationError",
     "evalue": "expected an indented block after 'for' statement on line 9 (3070567835.py, line 10)",
     "output_type": "error",
     "traceback": [
      "\u001b[1;36m  Cell \u001b[1;32mIn[28], line 10\u001b[1;36m\u001b[0m\n\u001b[1;33m    print(i, end =\" \")\u001b[0m\n\u001b[1;37m    ^\u001b[0m\n\u001b[1;31mIndentationError\u001b[0m\u001b[1;31m:\u001b[0m expected an indented block after 'for' statement on line 9\n"
     ]
    }
   ],
   "source": [
    "#Adj_list\n",
    "def createList(n):\n",
    "    m={}\n",
    "    for i in range(n):\n",
    "        m[i]=[]\n",
    "    return m\n",
    "\n",
    "def printList(adj_list):\n",
    "    for i in range(len(adj_list)):\n",
    "    print(i, end =\" \")\n",
    "    print(adj_list[i])\n",
    "\n",
    "f=open(\"graph1.txt\",\"r\")\n",
    "v_e=f.readline()\n",
    "v=int(v_e.split()[0])\n",
    "e=int(v_e.split()[1])\n",
    "m = creatMatrix(v)\n",
    "\n",
    "adj_list=createList(v)\n",
    "\n",
    "\n",
    "for i in range(e):\n",
    "    line=f.readline()\n",
    "    u=int(line.split()[0])\n",
    "    v=int(line.split()[1])\n",
    "    adj_list[u].append(v)\n",
    "    \n",
    "printList(adj_list)\n",
    "\n"
   ]
  },
  {
   "cell_type": "code",
   "execution_count": 38,
   "id": "51136989-4e20-48d2-ac8e-d3780e3dd079",
   "metadata": {},
   "outputs": [
    {
     "name": "stdout",
     "output_type": "stream",
     "text": [
      "0 [1, 2]\n",
      "1 [2, 3]\n",
      "2 [3]\n",
      "3 [4]\n",
      "4 [0, 1, 5]\n",
      "5 []\n",
      "OutDegree node 4: 3\n",
      "InDegree node 4:  1\n"
     ]
    }
   ],
   "source": [
    "def createList(n):\n",
    "    m = {}\n",
    "    for i in range(n):\n",
    "        m[i] = []\n",
    "    return m\n",
    "\n",
    "def printList(adj_list):\n",
    "    for i in range(len(adj_list)):\n",
    "        print(i, end=\" \")\n",
    "        print(adj_list[i])\n",
    "\n",
    "def outDegree(adj_list,node):\n",
    "    return len(adj_list[node])\n",
    "\n",
    "def inDegree(adj_list,node):\n",
    "    count=0\n",
    "    for i in range(len(adj_list)):\n",
    "        if node in adj_list[i]:\n",
    "            count+=1\n",
    "    return count\n",
    "    \n",
    "\n",
    "f = open(\"graph1.txt\", \"r\")\n",
    "v_e = f.readline()\n",
    "v = int(v_e.split()[0])\n",
    "e = int(v_e.split()[1])\n",
    "\n",
    "adj_list = createList(v)\n",
    "\n",
    "for i in range(e):\n",
    "    line = f.readline()\n",
    "    u = int(line.split()[0])\n",
    "    v = int(line.split()[1])\n",
    "    adj_list[u].append(v)\n",
    "\n",
    "f.close()\n",
    "printList(adj_list)\n",
    "\n",
    "node= 4\n",
    "print(f\"OutDegree node {node}: {outDegree(adj_list, node)}\")\n",
    "print(f\"InDegree node {node}:  {inDegree(adj_list, node)}\")\n"
   ]
  },
  {
   "cell_type": "code",
   "execution_count": 50,
   "id": "79db23f1-a6cc-48f5-b84c-90d1f32d50d3",
   "metadata": {},
   "outputs": [
    {
     "name": "stdout",
     "output_type": "stream",
     "text": [
      "30\n",
      "20\n",
      "10\n"
     ]
    }
   ],
   "source": [
    "#inDegreee and outDegreee\n",
    "\n",
    "import queue\n",
    "\n",
    "stack=queue.LifoQueue()\n",
    "stack.put(10)\n",
    "stack.put(20)\n",
    "stack.put(30)\n",
    "\n",
    "while not stack.empty():\n",
    "    print(stack.get())"
   ]
  },
  {
   "cell_type": "code",
   "execution_count": 52,
   "id": "b285e578-d107-4e99-8cc7-7f738ef43188",
   "metadata": {},
   "outputs": [
    {
     "name": "stdout",
     "output_type": "stream",
     "text": [
      "10\n",
      "20\n",
      "30\n"
     ]
    }
   ],
   "source": [
    "import  queue \n",
    "\n",
    "q=queue.Queue()\n",
    "q.put(10)\n",
    "q.put(20)\n",
    "q.put(30)\n",
    "\n",
    "while not q.empty():\n",
    "    print(q.get())"
   ]
  },
  {
   "cell_type": "code",
   "execution_count": 70,
   "id": "cb8e67b6-61dd-4435-bd3d-83b6cd86fd41",
   "metadata": {},
   "outputs": [
    {
     "name": "stdout",
     "output_type": "stream",
     "text": [
      "(10, 'S')\n",
      "(300, 'R')\n",
      "(700, 'M')\n"
     ]
    }
   ],
   "source": [
    "import  queue \n",
    "\n",
    "q = queue.PriorityQueue()\n",
    "q.put((10, \"S\"))\n",
    "q.put((700, \"M\"))\n",
    "q.put((300, \"R\"))\n",
    "\n",
    "while not q.empty():\n",
    "    print(q.get())"
   ]
  },
  {
   "cell_type": "code",
   "execution_count": 64,
   "id": "784dd7d7-030e-4ea0-95b5-d8835e9abdf1",
   "metadata": {},
   "outputs": [
    {
     "name": "stdout",
     "output_type": "stream",
     "text": [
      "(3, 'R')\n",
      "(7, 'M')\n",
      "(10, 'S')\n"
     ]
    }
   ],
   "source": [
    "import queue \n",
    "\n",
    "q = queue.PriorityQueue()\n",
    "q.put((10, \"S\"))\n",
    "q.put((7, \"M\"))\n",
    "q.put((3, \"R\"))\n",
    "\n",
    "while not q.empty():\n",
    "    print(q.get())\n"
   ]
  },
  {
   "cell_type": "code",
   "execution_count": null,
   "id": "37ddb782-2861-4a1a-8ce8-2847a561c66b",
   "metadata": {},
   "outputs": [],
   "source": []
  }
 ],
 "metadata": {
  "kernelspec": {
   "display_name": "Python 3 (ipykernel)",
   "language": "python",
   "name": "python3"
  },
  "language_info": {
   "codemirror_mode": {
    "name": "ipython",
    "version": 3
   },
   "file_extension": ".py",
   "mimetype": "text/x-python",
   "name": "python",
   "nbconvert_exporter": "python",
   "pygments_lexer": "ipython3",
   "version": "3.12.7"
  }
 },
 "nbformat": 4,
 "nbformat_minor": 5
}
